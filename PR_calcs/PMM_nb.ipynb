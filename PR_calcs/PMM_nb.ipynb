{
 "cells": [
  {
   "cell_type": "code",
   "execution_count": 3,
   "metadata": {},
   "outputs": [],
   "source": [
    "import os, csv, sys\n",
    "\n",
    "import numpy as np\n",
    "import pandas as pd\n",
    "import matplotlib.pyplot as plt\n",
    "%matplotlib inline\n",
    "import PMM\n",
    "MAJOR_PARTY_THRESH = 0.05"
   ]
  },
  {
   "cell_type": "code",
   "execution_count": 4,
   "metadata": {},
   "outputs": [],
   "source": [
    "# ================ import data ===============\n",
    "pathstr=\"data/raw_2011_copy/\"\n",
    "year = \"\".join([x for x in pathstr if str.isdigit(x)])\n",
    "assert str.isdigit(year), \"Cannot determine year from path provided. Please include the election year in the name of your folder\"\n",
    "year = int(year)\n",
    "assert ( int(year) < 2050 and int(year) > 1867 ), \"Inferred implausible year=%d, please check folder names for appropriate year\"%year\n",
    "\n",
    "# Define output paths:\n",
    "if not os.path.exists( os.path.join( pathstr, \"PMM_out\") ):\n",
    "    os.makedirs(os.path.join( pathstr, \"PMM_out\"))\n",
    "f_qlist_out     = os.path.join( pathstr, \"PMM_out\", \"PMM_qlist.tsv\")\n",
    "f_standings_out = os.path.join( pathstr, \"PMM_out\", \"PMM_standings.tsv\")\n",
    "\n",
    "# info on total # votes cast & turnout.\n",
    "T3_path = os.path.join(pathstr, \"table_tableau03.csv\")\n",
    "# info on seats awarded\n",
    "T7_path = os.path.join(pathstr, \"table_tableau07.csv\")        \n",
    "# Valid votes by party:\n",
    "T8_path = os.path.join(pathstr, \"table_tableau08.csv\")        \n",
    "\n",
    "# character encoding changed in 2019:\n",
    "if (year < 2019 ):\n",
    "    df_Nvotes     = pd.read_csv(T3_path, index_col=\"Province\", encoding = \"ISO-8859-1\")\n",
    "    Seats_init = pd.read_csv(T7_path, index_col=\"Province\", encoding = \"ISO-8859-1\")\n",
    "    VV_bp      = pd.read_csv( T8_path, index_col=0, encoding = \"ISO-8859-1\")\n",
    "else:\n",
    "    df_Nvotes     = pd.read_csv(T3_path, index_col=\"Province\")\n",
    "    Seats_init = pd.read_csv(T7_path, index_col=\"Province\")\n",
    "    VV_bp      = pd.read_csv( T8_path, index_col=0)    "
   ]
  },
  {
   "cell_type": "code",
   "execution_count": null,
   "metadata": {},
   "outputs": [],
   "source": []
  },
  {
   "cell_type": "code",
   "execution_count": null,
   "metadata": {},
   "outputs": [],
   "source": []
  },
  {
   "cell_type": "code",
   "execution_count": 5,
   "metadata": {},
   "outputs": [
    {
     "name": "stdout",
     "output_type": "stream",
     "text": [
      "Total votes : 14823408 \n",
      "Percent votes valid  : 99.3293 \n",
      "Percent votes invalid: 0.6707 \n"
     ]
    }
   ],
   "source": [
    "# get the total num votes valid, invalid\n",
    "N_total_votes = df_Nvotes.iloc[:, 6].sum()\n",
    "print(\"Total votes : %d \" %(N_total_votes) )\n",
    "print( \"Percent votes valid  : %.4f \" %( 100*df_Nvotes.iloc[:, 2].sum()/N_total_votes) )\n",
    "print( \"Percent votes invalid: %.4f \" %( 100*df_Nvotes.iloc[:, 4].sum()/N_total_votes) )"
   ]
  },
  {
   "cell_type": "code",
   "execution_count": 6,
   "metadata": {},
   "outputs": [],
   "source": [
    "Pop_vote_share = pd.Series( VV_bp.sum(axis=1)/N_total_votes,\n",
    "                            index= VV_bp.index )\n",
    "# Pop_vote_share"
   ]
  },
  {
   "cell_type": "code",
   "execution_count": 8,
   "metadata": {},
   "outputs": [],
   "source": [
    "# Select parties over threshold support\n",
    "maj_parties = Pop_vote_share.index[ Pop_vote_share >= MAJOR_PARTY_THRESH ]\n",
    "Vote_counts = VV_bp.loc[maj_parties,].sum(axis=1)\n",
    "\n",
    "Vote_counts.index = [ PMM.party_abbrev[key] for key in Vote_counts.index ]\n",
    "maj_parties       = [ PMM.party_abbrev[key] for key in maj_parties ]\n",
    "\n",
    "# All other parties are grouped together as \"OTHER\"\n",
    "# i.e. those who are _explicitly_ independent, as well as those whose \n",
    "# parties are relegated to \"independence\" by falling below threshold support.\n",
    "Vote_counts[\"OTH\"] = sum ( VV_bp.loc[Pop_vote_share < MAJOR_PARTY_THRESH, ].sum(axis = 1 ) )\n",
    "\n",
    "# \"SPL\" captures all rejected (i.e. 'spoiled') ballots \n",
    "Vote_counts[\"SPL\"] = df_Nvotes.sum(axis=0)[4]\n",
    "\n",
    "# Vote_counts"
   ]
  },
  {
   "cell_type": "code",
   "execution_count": null,
   "metadata": {},
   "outputs": [],
   "source": []
  },
  {
   "cell_type": "code",
   "execution_count": 13,
   "metadata": {},
   "outputs": [],
   "source": [
    "Const_Seats = PMM.get_party_seat_standings(Seats_init, maj_parties )\n",
    "Seats_total_init = sum( Const_Seats )\n",
    "Standings = pd.DataFrame( {\"Votes\":Vote_counts, \"Seats_init\": Const_Seats } )"
   ]
  },
  {
   "cell_type": "code",
   "execution_count": 14,
   "metadata": {},
   "outputs": [],
   "source": [
    "all_parties = { Standings.index[p]: PMM.party( Standings.index[p], \n",
    "                                        Standings.iloc[p,0], \n",
    "                                        Standings.iloc[p,1],\n",
    "                                        N_total_votes,\n",
    "                                        Seats_total_init)\n",
    "        for p in range(Standings.shape[0])}"
   ]
  },
  {
   "cell_type": "code",
   "execution_count": 25,
   "metadata": {},
   "outputs": [],
   "source": [
    "party_namelist  = all_parties.keys()\n",
    "Num_parties     = len(party_namelist)"
   ]
  },
  {
   "cell_type": "code",
   "execution_count": 26,
   "metadata": {},
   "outputs": [],
   "source": [
    "Total_quotient_list=[]\n",
    "for p in party_namelist:\n",
    "    Total_quotient_list.extend(all_parties[p].party_quotient_list )\n",
    "Total_quotient_list.sort(reverse=True)"
   ]
  },
  {
   "cell_type": "code",
   "execution_count": 27,
   "metadata": {},
   "outputs": [],
   "source": [
    "# Sanity check, all constituency seats are assigned, and no others are:\n",
    "assert all([seat.assigned for seat in Total_quotient_list[0:Seats_total_init-1]]) and not any( [seat.assigned for seat in Total_quotient_list[Seats_total_init:]] ), \"ERROR: Total_quotient_list not properly sorted, or inconsistent with expected seat number.\""
   ]
  },
  {
   "cell_type": "code",
   "execution_count": 34,
   "metadata": {},
   "outputs": [],
   "source": [
    "# Shorten list to the first 1:2*Seats_total_init\n",
    "# (nothing beyond this list has any chance of consideration.\n",
    "shortlist = Total_quotient_list[:2*Seats_total_init]\n",
    "Qlist = pd.DataFrame({\"j\"        :[ q.jval   for q in shortlist],\n",
    "                      \"Value\"    :[ q.value  for q in shortlist],\n",
    "                      \"Assigned\" :[ int(q.assigned) for q in shortlist],\n",
    "                      \"party\"    :[ q.party_att     for q in shortlist],\n",
    "                      } )\n",
    "# --- Document the quotient list in a tsv file:\n",
    "Qlist.round(2).to_csv(f_qlist_out, sep=\"\\t\")"
   ]
  },
  {
   "cell_type": "code",
   "execution_count": 39,
   "metadata": {},
   "outputs": [],
   "source": [
    "approx_Threshold = Total_quotient_list[Seats_total_init-1].value\n",
    "\n",
    "\n",
    "# Initialize from the first unassigned seat\n",
    "sval = Seats_total_init\n",
    "total_seats_assigned = Seats_total_init"
   ]
  },
  {
   "cell_type": "code",
   "execution_count": 40,
   "metadata": {},
   "outputs": [],
   "source": [
    "while (sval < 2*Seats_total_init):\n",
    "    # Hard cut-off at 2*Seats_total_init no matter proportionality status.\n",
    "    # Very unlikely that this will be approached.\n",
    "    sval += 1\n",
    "    current_party = Total_quotient_list[sval].party_att\n",
    "\n",
    "    # scroll through and add seats until the value is below threshold.\n",
    "    if (current_party == \"SPL\" or current_party == \"OTH\" ):\n",
    "        continue\n",
    "        # Skip OTHER, SPOILED quotients.\n",
    "    elif ( (all_parties[current_party].vote_share*total_seats_assigned)-all_parties[current_party].seats_assigned) > 1 :\n",
    "        # if this seat is not independent or \"spoiled\",\n",
    "        # and is owed seats >1 then give it an extra seat:\n",
    "        all_parties[current_party].seats_assigned += 1\n",
    "        total_seats_assigned += 1\n",
    "    else:\n",
    "        pass"
   ]
  },
  {
   "cell_type": "code",
   "execution_count": 41,
   "metadata": {},
   "outputs": [],
   "source": [
    "Standings_final = pd.DataFrame({\"Party\": list( all_parties.keys() ),\n",
    "                      \"Seats_initial\"  :[ all_parties[p].Seats_initial  for p in all_parties],\n",
    "                      \"Votes\"          :[ all_parties[p].Votes          for p in all_parties ],\n",
    "                      \"Vote_share\"     :[ all_parties[p].vote_share     for p in all_parties],\n",
    "                      \"Seats_final\"    :[ all_parties[p].seats_assigned for p in all_parties ],\n",
    "                      \"Seat_share\"     :[ (all_parties[p].seats_assigned)/total_seats_assigned  for p in all_parties]                                \n",
    "                      } )\n"
   ]
  },
  {
   "cell_type": "code",
   "execution_count": 42,
   "metadata": {},
   "outputs": [
    {
     "data": {
      "text/html": [
       "<div>\n",
       "<style scoped>\n",
       "    .dataframe tbody tr th:only-of-type {\n",
       "        vertical-align: middle;\n",
       "    }\n",
       "\n",
       "    .dataframe tbody tr th {\n",
       "        vertical-align: top;\n",
       "    }\n",
       "\n",
       "    .dataframe thead th {\n",
       "        text-align: right;\n",
       "    }\n",
       "</style>\n",
       "<table border=\"1\" class=\"dataframe\">\n",
       "  <thead>\n",
       "    <tr style=\"text-align: right;\">\n",
       "      <th></th>\n",
       "      <th>Party</th>\n",
       "      <th>Seats_initial</th>\n",
       "      <th>Votes</th>\n",
       "      <th>Vote_share</th>\n",
       "      <th>Seats_final</th>\n",
       "      <th>Seat_share</th>\n",
       "    </tr>\n",
       "  </thead>\n",
       "  <tbody>\n",
       "    <tr>\n",
       "      <th>0</th>\n",
       "      <td>BLQ</td>\n",
       "      <td>4</td>\n",
       "      <td>891425.0</td>\n",
       "      <td>0.060136</td>\n",
       "      <td>22</td>\n",
       "      <td>0.059459</td>\n",
       "    </tr>\n",
       "    <tr>\n",
       "      <th>1</th>\n",
       "      <td>CON</td>\n",
       "      <td>166</td>\n",
       "      <td>5835270.0</td>\n",
       "      <td>0.393652</td>\n",
       "      <td>166</td>\n",
       "      <td>0.448649</td>\n",
       "    </tr>\n",
       "    <tr>\n",
       "      <th>2</th>\n",
       "      <td>LIB</td>\n",
       "      <td>34</td>\n",
       "      <td>2783076.0</td>\n",
       "      <td>0.187749</td>\n",
       "      <td>69</td>\n",
       "      <td>0.186486</td>\n",
       "    </tr>\n",
       "    <tr>\n",
       "      <th>3</th>\n",
       "      <td>NDP</td>\n",
       "      <td>103</td>\n",
       "      <td>4512411.0</td>\n",
       "      <td>0.304411</td>\n",
       "      <td>112</td>\n",
       "      <td>0.302703</td>\n",
       "    </tr>\n",
       "    <tr>\n",
       "      <th>4</th>\n",
       "      <td>OTH</td>\n",
       "      <td>1</td>\n",
       "      <td>701798.0</td>\n",
       "      <td>0.047344</td>\n",
       "      <td>1</td>\n",
       "      <td>0.002703</td>\n",
       "    </tr>\n",
       "    <tr>\n",
       "      <th>5</th>\n",
       "      <td>SPL</td>\n",
       "      <td>0</td>\n",
       "      <td>99428.0</td>\n",
       "      <td>0.006707</td>\n",
       "      <td>0</td>\n",
       "      <td>0.000000</td>\n",
       "    </tr>\n",
       "  </tbody>\n",
       "</table>\n",
       "</div>"
      ],
      "text/plain": [
       "  Party  Seats_initial      Votes  Vote_share  Seats_final  Seat_share\n",
       "0   BLQ              4   891425.0    0.060136           22    0.059459\n",
       "1   CON            166  5835270.0    0.393652          166    0.448649\n",
       "2   LIB             34  2783076.0    0.187749           69    0.186486\n",
       "3   NDP            103  4512411.0    0.304411          112    0.302703\n",
       "4   OTH              1   701798.0    0.047344            1    0.002703\n",
       "5   SPL              0    99428.0    0.006707            0    0.000000"
      ]
     },
     "execution_count": 42,
     "metadata": {},
     "output_type": "execute_result"
    }
   ],
   "source": [
    "Standings_final"
   ]
  },
  {
   "cell_type": "code",
   "execution_count": 43,
   "metadata": {},
   "outputs": [],
   "source": [
    "#and output to file:\n",
    "Standings_final.round(2).to_csv(f_standings_out, sep=\"\\t\")"
   ]
  },
  {
   "cell_type": "code",
   "execution_count": null,
   "metadata": {},
   "outputs": [],
   "source": []
  }
 ],
 "metadata": {
  "kernelspec": {
   "display_name": "Python 3",
   "language": "python",
   "name": "python3"
  },
  "language_info": {
   "codemirror_mode": {
    "name": "ipython",
    "version": 3
   },
   "file_extension": ".py",
   "mimetype": "text/x-python",
   "name": "python",
   "nbconvert_exporter": "python",
   "pygments_lexer": "ipython3",
   "version": "3.7.5"
  }
 },
 "nbformat": 4,
 "nbformat_minor": 2
}
