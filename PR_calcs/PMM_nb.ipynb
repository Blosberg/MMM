{
 "cells": [
  {
   "cell_type": "code",
   "execution_count": 1,
   "metadata": {},
   "outputs": [],
   "source": [
    "import os\n",
    "import csv, sys\n",
    "# ^ necessary for command-line args.\n",
    "import numpy as np\n",
    "import pandas as pd\n",
    "import matplotlib.pyplot as plt\n",
    "%matplotlib inline\n",
    "import PMM\n",
    "MAJOR_PARTY_THRESH = 0.05"
   ]
  },
  {
   "cell_type": "code",
   "execution_count": 53,
   "metadata": {},
   "outputs": [],
   "source": [
    "# ================ import data ===============\n",
    "pathstr=\"data/raw_2019_copy/\"\n",
    "f_qlist_out     = os.path.join( pathstr, \"PMM_qlist.tsv\")\n",
    "f_standings_out = os.path.join( pathstr, \"PMM_standings.tsv\")\n",
    "\n",
    "T3_path = os.path.join(pathstr, \"table_tableau03.csv\")\n",
    "T7_path = os.path.join(pathstr, \"table_tableau07.csv\")        \n",
    "T8_path = os.path.join(pathstr, \"table_tableau08.csv\")        \n",
    "\n",
    "# info on total # votes cast & turnout.\n",
    "df_Nvotes     = pd.read_csv(T3_path, index_col=\"Province\")\n",
    "\n",
    "# info on seats awarded\n",
    "Seats_init = pd.read_csv(T7_path, index_col=\"Province\")\n",
    "\n",
    "# Valid votes by party:\n",
    "VV_bp      = pd.read_csv( T8_path, index_col=0)"
   ]
  },
  {
   "cell_type": "code",
   "execution_count": 3,
   "metadata": {},
   "outputs": [],
   "source": [
    "Const_Seats = PMM.get_party_seat_standings(Seats_init)\n",
    "Seats_total_init = sum( Const_Seats )\n",
    "# Const_Seats"
   ]
  },
  {
   "cell_type": "code",
   "execution_count": null,
   "metadata": {},
   "outputs": [],
   "source": []
  },
  {
   "cell_type": "code",
   "execution_count": 4,
   "metadata": {},
   "outputs": [
    {
     "name": "stdout",
     "output_type": "stream",
     "text": [
      "Total votes : 18350359 \n",
      "Percent votes valid  : 99.0219 \n",
      "Percent votes invalid: 0.9781 \n"
     ]
    }
   ],
   "source": [
    "# get the total num votes valid, invalid\n",
    "N_total_votes = df_Nvotes.iloc[:, 6].sum()\n",
    "print(\"Total votes : %d \" %(N_total_votes) )\n",
    "print( \"Percent votes valid  : %.4f \" %( 100*df_Nvotes.iloc[:, 2].sum()/N_total_votes) )\n",
    "print( \"Percent votes invalid: %.4f \" %( 100*df_Nvotes.iloc[:, 4].sum()/N_total_votes) )"
   ]
  },
  {
   "cell_type": "code",
   "execution_count": 5,
   "metadata": {},
   "outputs": [],
   "source": [
    "Pop_vote_share = pd.Series( VV_bp.sum(axis=1)/N_total_votes,\n",
    "                            index= VV_bp.index )\n",
    "# Pop_vote_share"
   ]
  },
  {
   "cell_type": "code",
   "execution_count": 6,
   "metadata": {},
   "outputs": [
    {
     "data": {
      "text/plain": [
       "BLQ    1387030.0\n",
       "CON    6239227.0\n",
       "GRN    1189607.0\n",
       "LIB    6018728.0\n",
       "NDP    2903722.0\n",
       "OTH     432566.0\n",
       "SPL     179479.0\n",
       "dtype: float64"
      ]
     },
     "execution_count": 6,
     "metadata": {},
     "output_type": "execute_result"
    }
   ],
   "source": [
    "# Select parties over threshold support\n",
    "maj_parties = Pop_vote_share.index[ Pop_vote_share >= MAJOR_PARTY_THRESH ]\n",
    "Vote_counts = VV_bp.loc[maj_parties,].sum(axis=1)\n",
    "\n",
    "Vote_counts.index = [ PMM.party_abbrev[key] for key in Vote_counts.index ]\n",
    "maj_parties       = [ PMM.party_abbrev[key] for key in maj_parties ]\n",
    "\n",
    "# All other parties are grouped together as \"OTHER\"\n",
    "# i.e. those who are _explicitly_ independent, as well as those whose \n",
    "# parties are relegated to \"independence\" by falling below threshold support.\n",
    "Vote_counts[\"OTH\"] = sum ( VV_bp.loc[Pop_vote_share < MAJOR_PARTY_THRESH, ].sum(axis = 1 ) )\n",
    "\n",
    "# \"SPL\" captures all rejected (i.e. 'spoiled') ballots \n",
    "Vote_counts[\"SPL\"] = df_Nvotes.sum(axis=0)[4]\n",
    "\n",
    "Vote_counts"
   ]
  },
  {
   "cell_type": "code",
   "execution_count": 7,
   "metadata": {},
   "outputs": [
    {
     "data": {
      "text/html": [
       "<div>\n",
       "<style scoped>\n",
       "    .dataframe tbody tr th:only-of-type {\n",
       "        vertical-align: middle;\n",
       "    }\n",
       "\n",
       "    .dataframe tbody tr th {\n",
       "        vertical-align: top;\n",
       "    }\n",
       "\n",
       "    .dataframe thead th {\n",
       "        text-align: right;\n",
       "    }\n",
       "</style>\n",
       "<table border=\"1\" class=\"dataframe\">\n",
       "  <thead>\n",
       "    <tr style=\"text-align: right;\">\n",
       "      <th></th>\n",
       "      <th>Votes</th>\n",
       "      <th>Seats_init</th>\n",
       "    </tr>\n",
       "  </thead>\n",
       "  <tbody>\n",
       "    <tr>\n",
       "      <th>BLQ</th>\n",
       "      <td>1387030.0</td>\n",
       "      <td>32</td>\n",
       "    </tr>\n",
       "    <tr>\n",
       "      <th>CON</th>\n",
       "      <td>6239227.0</td>\n",
       "      <td>121</td>\n",
       "    </tr>\n",
       "    <tr>\n",
       "      <th>GRN</th>\n",
       "      <td>1189607.0</td>\n",
       "      <td>3</td>\n",
       "    </tr>\n",
       "    <tr>\n",
       "      <th>LIB</th>\n",
       "      <td>6018728.0</td>\n",
       "      <td>157</td>\n",
       "    </tr>\n",
       "    <tr>\n",
       "      <th>NDP</th>\n",
       "      <td>2903722.0</td>\n",
       "      <td>24</td>\n",
       "    </tr>\n",
       "    <tr>\n",
       "      <th>OTH</th>\n",
       "      <td>432566.0</td>\n",
       "      <td>1</td>\n",
       "    </tr>\n",
       "    <tr>\n",
       "      <th>SPL</th>\n",
       "      <td>179479.0</td>\n",
       "      <td>0</td>\n",
       "    </tr>\n",
       "  </tbody>\n",
       "</table>\n",
       "</div>"
      ],
      "text/plain": [
       "         Votes  Seats_init\n",
       "BLQ  1387030.0          32\n",
       "CON  6239227.0         121\n",
       "GRN  1189607.0           3\n",
       "LIB  6018728.0         157\n",
       "NDP  2903722.0          24\n",
       "OTH   432566.0           1\n",
       "SPL   179479.0           0"
      ]
     },
     "execution_count": 7,
     "metadata": {},
     "output_type": "execute_result"
    }
   ],
   "source": [
    "Standings = pd.DataFrame( {\"Votes\":Vote_counts, \"Seats_init\": Const_Seats } )\n",
    "Standings"
   ]
  },
  {
   "cell_type": "code",
   "execution_count": 72,
   "metadata": {},
   "outputs": [],
   "source": [
    "all_parties = [PMM.party( Standings.index[p], \n",
    "                          Standings.iloc[p,0], \n",
    "                          Standings.iloc[p,1],\n",
    "                          N_total_votes,\n",
    "                          Seats_total_init) \n",
    "               for p in range(Standings.shape[0])]\n",
    "namelist    = Standings.index\n",
    "Num_parties = len(all_parties)"
   ]
  },
  {
   "cell_type": "code",
   "execution_count": 78,
   "metadata": {},
   "outputs": [],
   "source": [
    "all_parties = { Standings.index[p]: PMM.party( Standings.index[p], \n",
    "                                        Standings.iloc[p,0], \n",
    "                                        Standings.iloc[p,1],\n",
    "                                        N_total_votes,\n",
    "                                        Seats_total_init)\n",
    "        for p in range(Standings.shape[0])}"
   ]
  },
  {
   "cell_type": "code",
   "execution_count": 75,
   "metadata": {},
   "outputs": [
    {
     "data": {
      "text/plain": [
       "{'BLQ': <PMM.party at 0x11da52a50>,\n",
       " 'CON': <PMM.party at 0x11da52a90>,\n",
       " 'GRN': <PMM.party at 0x11d1590d0>,\n",
       " 'LIB': <PMM.party at 0x11d934c90>,\n",
       " 'NDP': <PMM.party at 0x11d649890>,\n",
       " 'OTH': <PMM.party at 0x11d898490>,\n",
       " 'SPL': <PMM.party at 0x11d6de090>}"
      ]
     },
     "execution_count": 75,
     "metadata": {},
     "output_type": "execute_result"
    }
   ],
   "source": [
    "test"
   ]
  },
  {
   "cell_type": "code",
   "execution_count": 82,
   "metadata": {},
   "outputs": [],
   "source": [
    "Total_quotient_list=[]\n",
    "for p in all_parties.keys():\n",
    "    Total_quotient_list.extend(all_parties[p].party_quotient_list )\n",
    "Total_quotient_list.sort(reverse=True)"
   ]
  },
  {
   "cell_type": "code",
   "execution_count": 61,
   "metadata": {},
   "outputs": [],
   "source": [
    "shortlist = Total_quotient_list[:2*Seats_total_init]\n",
    "len( shortlist) \n",
    "Qlist = pd.DataFrame({\"j\" :[ q.jval   for q in shortlist],\n",
    "              \"Value\"     :[ q.value  for q in shortlist],\n",
    "              \"Assigned\"  :[ int(q.assigned) for q in shortlist],\n",
    "              \"party\"     :[ q.party_att     for q in shortlist],\n",
    "              } )"
   ]
  },
  {
   "cell_type": "code",
   "execution_count": 62,
   "metadata": {},
   "outputs": [],
   "source": [
    "Qlist.round(2).to_csv(f_qlist_out, sep=\"\\t\")\n",
    "# f_qlist_out     "
   ]
  },
  {
   "cell_type": "code",
   "execution_count": 58,
   "metadata": {},
   "outputs": [
    {
     "ename": "AttributeError",
     "evalue": "'float' object has no attribute 'round'",
     "output_type": "error",
     "traceback": [
      "\u001b[0;31m---------------------------------------------------------------------------\u001b[0m",
      "\u001b[0;31mAttributeError\u001b[0m                            Traceback (most recent call last)",
      "\u001b[0;32m<ipython-input-58-d8d8289d88ec>\u001b[0m in \u001b[0;36m<module>\u001b[0;34m\u001b[0m\n\u001b[0;32m----> 1\u001b[0;31m \u001b[0mnp\u001b[0m\u001b[0;34m.\u001b[0m\u001b[0mpi\u001b[0m\u001b[0;34m.\u001b[0m\u001b[0mround\u001b[0m\u001b[0;34m(\u001b[0m\u001b[0;36m3\u001b[0m\u001b[0;34m)\u001b[0m\u001b[0;34m\u001b[0m\u001b[0;34m\u001b[0m\u001b[0m\n\u001b[0m",
      "\u001b[0;31mAttributeError\u001b[0m: 'float' object has no attribute 'round'"
     ]
    }
   ],
   "source": [
    "np.pi.round(3)"
   ]
  },
  {
   "cell_type": "code",
   "execution_count": 63,
   "metadata": {},
   "outputs": [
    {
     "data": {
      "text/plain": [
       "338"
      ]
     },
     "execution_count": 63,
     "metadata": {},
     "output_type": "execute_result"
    }
   ],
   "source": [
    "Seats_total_init"
   ]
  },
  {
   "cell_type": "code",
   "execution_count": 64,
   "metadata": {},
   "outputs": [],
   "source": [
    "Threshold = Total_quotient_list[Seats_total_init-1].value\n",
    "total_seats_assigned = Seats_total_init\n",
    "\n",
    "# Starting from the first unassigned seat\n",
    "sval = Seats_total_init\n"
   ]
  },
  {
   "cell_type": "code",
   "execution_count": 87,
   "metadata": {},
   "outputs": [
    {
     "data": {
      "text/plain": [
       "0.06482745105967681"
      ]
     },
     "execution_count": 87,
     "metadata": {},
     "output_type": "execute_result"
    }
   ],
   "source": [
    "all_parties[ Total_quotient_list[sval].party_att ].vote_share"
   ]
  },
  {
   "cell_type": "code",
   "execution_count": 102,
   "metadata": {},
   "outputs": [],
   "source": [
    "def shouldbe_done( current_seatnum, partylist, maj_parties):\n",
    "    return all( [current_seatnum*(partylist[p].vote_share)-partylist[p].seats_assigned < 1 for p in maj_parties] )"
   ]
  },
  {
   "cell_type": "code",
   "execution_count": 116,
   "metadata": {},
   "outputs": [],
   "source": [
    "Standings_final = pd.DataFrame({\"Party\": list( all_parties.keys() ),\n",
    "                      \"Seats_initial\"  :[ all_parties[p].Seats_initial  for p in all_parties],\n",
    "                      \"Votes\"          :[ all_parties[p].Votes          for p in all_parties ],\n",
    "                      \"Vote_share\"     :[ all_parties[p].vote_share     for p in all_parties],\n",
    "                      \"Seats_final\"    :[ all_parties[p].seats_assigned for p in all_parties ],\n",
    "                      \"Seat_share\"     :[ (all_parties[p].seats_assigned)/total_seats_assigned  for p in all_parties]                                \n",
    "                      } )\n"
   ]
  },
  {
   "cell_type": "code",
   "execution_count": 115,
   "metadata": {},
   "outputs": [
    {
     "data": {
      "text/html": [
       "<div>\n",
       "<style scoped>\n",
       "    .dataframe tbody tr th:only-of-type {\n",
       "        vertical-align: middle;\n",
       "    }\n",
       "\n",
       "    .dataframe tbody tr th {\n",
       "        vertical-align: top;\n",
       "    }\n",
       "\n",
       "    .dataframe thead th {\n",
       "        text-align: right;\n",
       "    }\n",
       "</style>\n",
       "<table border=\"1\" class=\"dataframe\">\n",
       "  <thead>\n",
       "    <tr style=\"text-align: right;\">\n",
       "      <th></th>\n",
       "      <th>Party</th>\n",
       "      <th>Seats_initial</th>\n",
       "      <th>Votes</th>\n",
       "      <th>Vote_share</th>\n",
       "      <th>Seats_final</th>\n",
       "      <th>Seat_share</th>\n",
       "    </tr>\n",
       "  </thead>\n",
       "  <tbody>\n",
       "    <tr>\n",
       "      <th>0</th>\n",
       "      <td>BLQ</td>\n",
       "      <td>32</td>\n",
       "      <td>1387030.0</td>\n",
       "      <td>0.075586</td>\n",
       "      <td>32</td>\n",
       "      <td>0.094675</td>\n",
       "    </tr>\n",
       "    <tr>\n",
       "      <th>1</th>\n",
       "      <td>CON</td>\n",
       "      <td>121</td>\n",
       "      <td>6239227.0</td>\n",
       "      <td>0.340006</td>\n",
       "      <td>121</td>\n",
       "      <td>0.357988</td>\n",
       "    </tr>\n",
       "    <tr>\n",
       "      <th>2</th>\n",
       "      <td>GRN</td>\n",
       "      <td>3</td>\n",
       "      <td>1189607.0</td>\n",
       "      <td>0.064827</td>\n",
       "      <td>3</td>\n",
       "      <td>0.008876</td>\n",
       "    </tr>\n",
       "    <tr>\n",
       "      <th>3</th>\n",
       "      <td>LIB</td>\n",
       "      <td>157</td>\n",
       "      <td>6018728.0</td>\n",
       "      <td>0.327990</td>\n",
       "      <td>157</td>\n",
       "      <td>0.464497</td>\n",
       "    </tr>\n",
       "    <tr>\n",
       "      <th>4</th>\n",
       "      <td>NDP</td>\n",
       "      <td>24</td>\n",
       "      <td>2903722.0</td>\n",
       "      <td>0.158238</td>\n",
       "      <td>24</td>\n",
       "      <td>0.071006</td>\n",
       "    </tr>\n",
       "    <tr>\n",
       "      <th>5</th>\n",
       "      <td>OTH</td>\n",
       "      <td>1</td>\n",
       "      <td>432566.0</td>\n",
       "      <td>0.023573</td>\n",
       "      <td>1</td>\n",
       "      <td>0.002959</td>\n",
       "    </tr>\n",
       "    <tr>\n",
       "      <th>6</th>\n",
       "      <td>SPL</td>\n",
       "      <td>0</td>\n",
       "      <td>179479.0</td>\n",
       "      <td>0.009781</td>\n",
       "      <td>0</td>\n",
       "      <td>0.000000</td>\n",
       "    </tr>\n",
       "  </tbody>\n",
       "</table>\n",
       "</div>"
      ],
      "text/plain": [
       "  Party  Seats_initial      Votes  Vote_share  Seats_final  Seat_share\n",
       "0   BLQ             32  1387030.0    0.075586           32    0.094675\n",
       "1   CON            121  6239227.0    0.340006          121    0.357988\n",
       "2   GRN              3  1189607.0    0.064827            3    0.008876\n",
       "3   LIB            157  6018728.0    0.327990          157    0.464497\n",
       "4   NDP             24  2903722.0    0.158238           24    0.071006\n",
       "5   OTH              1   432566.0    0.023573            1    0.002959\n",
       "6   SPL              0   179479.0    0.009781            0    0.000000"
      ]
     },
     "execution_count": 115,
     "metadata": {},
     "output_type": "execute_result"
    }
   ],
   "source": [
    "Standings_final"
   ]
  },
  {
   "cell_type": "code",
   "execution_count": 118,
   "metadata": {},
   "outputs": [
    {
     "data": {
      "text/plain": [
       "1.0"
      ]
     },
     "execution_count": 118,
     "metadata": {},
     "output_type": "execute_result"
    }
   ],
   "source": [
    "sum( [ all_parties[p].vote_share for p in all_parties ] )"
   ]
  },
  {
   "cell_type": "code",
   "execution_count": null,
   "metadata": {},
   "outputs": [],
   "source": []
  }
 ],
 "metadata": {
  "kernelspec": {
   "display_name": "Python 3",
   "language": "python",
   "name": "python3"
  },
  "language_info": {
   "codemirror_mode": {
    "name": "ipython",
    "version": 3
   },
   "file_extension": ".py",
   "mimetype": "text/x-python",
   "name": "python",
   "nbconvert_exporter": "python",
   "pygments_lexer": "ipython3",
   "version": "3.7.5"
  }
 },
 "nbformat": 4,
 "nbformat_minor": 2
}
