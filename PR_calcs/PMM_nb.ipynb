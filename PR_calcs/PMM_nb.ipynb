{
 "cells": [
  {
   "cell_type": "code",
   "execution_count": 1,
   "metadata": {},
   "outputs": [],
   "source": [
    "import os, csv, sys\n",
    "\n",
    "import numpy as np\n",
    "import pandas as pd\n",
    "import matplotlib.pyplot as plt\n",
    "%matplotlib inline\n",
    "\n",
    "import PMM\n",
    "MAJOR_PARTY_THRESH = 0.05"
   ]
  },
  {
   "cell_type": "code",
   "execution_count": 2,
   "metadata": {},
   "outputs": [],
   "source": [
    "# ================ import data ===============\n",
    "pathstr=\"data/raw_2011/\"\n",
    "\n",
    "year = \"\".join([x for x in pathstr if str.isdigit(x)])\n",
    "assert str.isdigit(year), \"Cannot determine year from path provided. Please include the election year in the name of your folder\"\n",
    "year = int(year)\n",
    "assert ( int(year) < 2050 and int(year) >= 1867 ), \"Inferred implausible year=%d, please check folder names for appropriate year\"%year\n",
    "\n",
    "# Define output paths:\n",
    "if not os.path.exists( os.path.join( pathstr, \"PMM_out\") ):\n",
    "    os.makedirs(os.path.join( pathstr, \"PMM_out\"))\n",
    "f_init_standings_out = os.path.join( pathstr, \"PMM_out\", \"party_Standings_init.tsv\" )\n",
    "f_qlist_out     = os.path.join( pathstr, \"PMM_out\", \"PMM_qlist.tsv\")\n",
    "f_standings_out = os.path.join( pathstr, \"PMM_out\", \"PMM_standings.tsv\")\n",
    "\n",
    "# output plots:\n",
    "img_format=\".pdf\"\n",
    "fout_figs_PMM_proj = os.path.join( pathstr, \"PMM_out\", \"PMM_projections\"+img_format)\n",
    "\n",
    "# info on total # votes cast & turnout.\n",
    "T3_path = os.path.join(pathstr, \"table_tableau03.csv\")\n",
    "# info on seats awarded\n",
    "T7_path = os.path.join(pathstr, \"table_tableau07.csv\")\n",
    "# Valid votes by party:\n",
    "T8_path = os.path.join(pathstr, \"table_tableau08.csv\")\n",
    "\n",
    "# character encoding changed in 2019:\n",
    "if (year < 2015 ):\n",
    "    df_Nvotes  = pd.read_csv( T3_path, index_col=\"Province\", encoding = \"ISO-8859-1\")\n",
    "    Seats_table_raw = pd.read_csv( T7_path, index_col=\"Province\", encoding = \"ISO-8859-1\")\n",
    "    VV_bp      = pd.read_csv( T8_path, index_col=0, encoding = \"ISO-8859-1\")\n",
    "else:\n",
    "    df_Nvotes  = pd.read_csv( T3_path, index_col=\"Province\")\n",
    "    Seats_table_raw = pd.read_csv( T7_path, index_col=\"Province\")\n",
    "    VV_bp      = pd.read_csv( T8_path, index_col=0) # index is party name:"
   ]
  },
  {
   "cell_type": "code",
   "execution_count": 3,
   "metadata": {},
   "outputs": [],
   "source": [
    "Seats_init = PMM.standardize_party_labels( Seats_table_raw, PMM.party_codes_en, PMM.party_codes_fr)\n",
    "# Seats_init"
   ]
  },
  {
   "cell_type": "code",
   "execution_count": 4,
   "metadata": {},
   "outputs": [
    {
     "name": "stdout",
     "output_type": "stream",
     "text": [
      "\n",
      "-------- BEGINING PMM PROPORTIONALITY CALCULATION -------- \n",
      "\n",
      "In Year 2011, there were 14823408 total votes cast \n",
      "Of those, 99.3293% were valid.\n",
      "And 0.6707% were invalid.\n"
     ]
    }
   ],
   "source": [
    "print(\"\\n-------- BEGINING PMM PROPORTIONALITY CALCULATION -------- \\n\"  )\n",
    "\n",
    "N_total_votes = df_Nvotes.iloc[:, 6].sum()\n",
    "print(\"In Year %d, there were %d total votes cast \" %(year, N_total_votes) )\n",
    "print( \"Of those, %.4f%% were valid.\" %( 100*df_Nvotes.iloc[:, 2].sum()/N_total_votes) )\n",
    "print( \"And %.4f%% were invalid.\" %( 100*df_Nvotes.iloc[:, 4].sum()/N_total_votes) )"
   ]
  },
  {
   "cell_type": "code",
   "execution_count": 5,
   "metadata": {},
   "outputs": [],
   "source": [
    "Pop_vote_share = pd.Series( VV_bp.sum(axis=1)/N_total_votes,\n",
    "                            index= VV_bp.index )\n",
    "# Pop_vote_share"
   ]
  },
  {
   "cell_type": "code",
   "execution_count": 6,
   "metadata": {},
   "outputs": [],
   "source": [
    "# Select parties over threshold support\n",
    "# Filter for parties with >5% pop support\n",
    "maj_parties = Pop_vote_share.index[ Pop_vote_share > 0.05 ]\n",
    "\n",
    "# Collect Vote_counts for maj parties, and account for spoiled and independent\n",
    "Vote_counts_majparties = VV_bp.loc[maj_parties,].sum(axis=1)"
   ]
  },
  {
   "cell_type": "code",
   "execution_count": 7,
   "metadata": {},
   "outputs": [
    {
     "name": "stdout",
     "output_type": "stream",
     "text": [
      "The major parties obtaining more than 5% of the popular vote consisted of the following: \n",
      "\n",
      "\n",
      "Bloc Québécois/Bloc Québécois\n",
      "Conservative Party of Canada/Parti conservateur du Canada\n",
      "Liberal Party of Canada/Parti libéral du Canada\n",
      "New Democratic Party/Nouveau Parti démocratique\n",
      "\n",
      "\n",
      "These parties obtained a combined 94.59% of the popular vote.\n",
      "4.73% of ballots were valid votes for other parties.\n",
      "0.67% of ballots were spoiled.\n"
     ]
    }
   ],
   "source": [
    "Vote_counts = PMM.standardize_party_labels( Vote_counts_majparties, \n",
    "                                            PMM.party_codes_en, \n",
    "                                            PMM.party_codes_fr, \n",
    "                                            axis_in=0)\n",
    "maj_party_standard_labels = Vote_counts.index\n",
    "\n",
    "print( \"The major parties obtaining more than 5% of the popular vote consisted of the following: \")\n",
    "print(\"\\n\")\n",
    "print ('\\n'.join(list(maj_parties)))\n",
    "print(\"\\n\")\n",
    "print( \"These parties obtained a combined %.2f%% of the popular vote.\" %(100*sum(Vote_counts)/N_total_votes))\n",
    "      \n",
    "# All other parties are grouped together as \"OTHER\"\n",
    "# i.e. those who are _explicitly_ independent, as well as those whose\n",
    "# parties are relegated to \"independence\" by falling below threshold support.\n",
    "Vote_counts[\"OTH\"] = sum( VV_bp.drop([ mp for mp in maj_parties]).sum(axis=1) )\n",
    "# \"SPL\" captures all rejected (i.e. 'spoiled') ballots\n",
    "Vote_counts[\"SPL\"] = df_Nvotes.sum(axis=0)[4]\n",
    "# Vote_counts\n",
    "print( \"%.2f%% of ballots were valid votes for other parties.\" %(100*Vote_counts[\"OTH\"]/N_total_votes))\n",
    "print( \"%.2f%% of ballots were spoiled.\" %(100*Vote_counts[\"SPL\"]/N_total_votes))"
   ]
  },
  {
   "cell_type": "code",
   "execution_count": 8,
   "metadata": {},
   "outputs": [],
   "source": [
    "Const_Seats_all_parties_with_seats = Seats_init.drop([\"TOT\"],axis=1).sum()\n",
    "Seats_total_init = sum( Const_Seats_all_parties_with_seats )\n",
    "\n",
    "# Now the initial \"other\" (which normally just means independent) is bundled together with\n",
    "# all parties below 5%, all sitting members of which are now also, effectively, \"independent\"\n",
    "Const_Seats = Const_Seats_all_parties_with_seats[maj_party_standard_labels]\n",
    "Const_Seats[\"OTH\"] = sum( Const_Seats_all_parties_with_seats[ [p for p in Const_Seats_all_parties_with_seats.index if not p in maj_party_standard_labels ]] )\n",
    "# Spoiled ballots, by definition, will always obtain zero seats.\n",
    "Const_Seats[\"SPL\"] = 0\n"
   ]
  },
  {
   "cell_type": "code",
   "execution_count": 9,
   "metadata": {},
   "outputs": [
    {
     "data": {
      "text/html": [
       "<div>\n",
       "<style scoped>\n",
       "    .dataframe tbody tr th:only-of-type {\n",
       "        vertical-align: middle;\n",
       "    }\n",
       "\n",
       "    .dataframe tbody tr th {\n",
       "        vertical-align: top;\n",
       "    }\n",
       "\n",
       "    .dataframe thead th {\n",
       "        text-align: right;\n",
       "    }\n",
       "</style>\n",
       "<table border=\"1\" class=\"dataframe\">\n",
       "  <thead>\n",
       "    <tr style=\"text-align: right;\">\n",
       "      <th></th>\n",
       "      <th>Votes</th>\n",
       "      <th>Seats_init</th>\n",
       "    </tr>\n",
       "  </thead>\n",
       "  <tbody>\n",
       "    <tr>\n",
       "      <th>BLQ</th>\n",
       "      <td>891425.0</td>\n",
       "      <td>4</td>\n",
       "    </tr>\n",
       "    <tr>\n",
       "      <th>CON</th>\n",
       "      <td>5835270.0</td>\n",
       "      <td>166</td>\n",
       "    </tr>\n",
       "    <tr>\n",
       "      <th>LIB</th>\n",
       "      <td>2783076.0</td>\n",
       "      <td>34</td>\n",
       "    </tr>\n",
       "    <tr>\n",
       "      <th>NDP</th>\n",
       "      <td>4512411.0</td>\n",
       "      <td>103</td>\n",
       "    </tr>\n",
       "    <tr>\n",
       "      <th>OTH</th>\n",
       "      <td>701798.0</td>\n",
       "      <td>1</td>\n",
       "    </tr>\n",
       "    <tr>\n",
       "      <th>SPL</th>\n",
       "      <td>99428.0</td>\n",
       "      <td>0</td>\n",
       "    </tr>\n",
       "  </tbody>\n",
       "</table>\n",
       "</div>"
      ],
      "text/plain": [
       "         Votes  Seats_init\n",
       "BLQ   891425.0           4\n",
       "CON  5835270.0         166\n",
       "LIB  2783076.0          34\n",
       "NDP  4512411.0         103\n",
       "OTH   701798.0           1\n",
       "SPL    99428.0           0"
      ]
     },
     "execution_count": 9,
     "metadata": {},
     "output_type": "execute_result"
    }
   ],
   "source": [
    "Standings = pd.DataFrame( {\"Votes\":Vote_counts, \"Seats_init\": Const_Seats } )\n",
    "Standings"
   ]
  },
  {
   "cell_type": "code",
   "execution_count": 10,
   "metadata": {},
   "outputs": [],
   "source": [
    "parties = { Standings.index[p]: PMM.party( Standings.index[p], \n",
    "                                        Standings.iloc[p,0], \n",
    "                                        Standings.iloc[p,1],\n",
    "                                        N_total_votes,\n",
    "                                        Seats_total_init)\n",
    "        for p in range(Standings.shape[0])}"
   ]
  },
  {
   "cell_type": "code",
   "execution_count": 11,
   "metadata": {},
   "outputs": [],
   "source": [
    "party_namelist  = parties.keys()\n",
    "Num_parties     = len(party_namelist)"
   ]
  },
  {
   "cell_type": "code",
   "execution_count": 12,
   "metadata": {},
   "outputs": [],
   "source": [
    "Total_quotient_list=[]\n",
    "for p in party_namelist:\n",
    "    Total_quotient_list.extend( parties[p].party_quotient_list )\n",
    "Total_quotient_list.sort(reverse=True)"
   ]
  },
  {
   "cell_type": "code",
   "execution_count": 13,
   "metadata": {},
   "outputs": [],
   "source": [
    "# Sanity check, all constituency seats are assigned, and no others are:\n",
    "assert all([seat.assigned for seat in Total_quotient_list[0:Seats_total_init-1]]) and not any( [seat.assigned for seat in Total_quotient_list[Seats_total_init:]] ), \"ERROR: Total_quotient_list not properly sorted, or inconsistent with expected seat number.\""
   ]
  },
  {
   "cell_type": "code",
   "execution_count": 14,
   "metadata": {},
   "outputs": [],
   "source": [
    "# Shorten list to the first 1:2*Seats_total_init\n",
    "# (nothing beyond this list has any chance of consideration.\n",
    "shortlist = Total_quotient_list[:2*Seats_total_init]\n",
    "Qlist = pd.DataFrame({\"j\"        :[ q.jval   for q in shortlist],\n",
    "                      \"Value\"    :[ q.value  for q in shortlist],\n",
    "                      \"Assigned\" :[ int(q.assigned) for q in shortlist],\n",
    "                      \"party\"    :[ q.party_att     for q in shortlist],\n",
    "                      } )\n",
    "# --- Document the quotient list in a tsv file:\n",
    "# Qlist.round(2).to_csv(f_qlist_out, sep=\"\\t\")"
   ]
  },
  {
   "cell_type": "code",
   "execution_count": 15,
   "metadata": {},
   "outputs": [],
   "source": [
    "approx_Threshold = Total_quotient_list[Seats_total_init-1].value\n",
    "# Initialize from the first unassigned seat\n",
    "total_seats_assigned = Seats_total_init"
   ]
  },
  {
   "cell_type": "code",
   "execution_count": 16,
   "metadata": {},
   "outputs": [],
   "source": [
    "sval = Seats_total_init\n",
    "while (sval < 2*Seats_total_init):\n",
    "    # Hard cut-off at 2*Seats_total_init no matter proportionality status.\n",
    "    # Very unlikely that this will be approached.\n",
    "    sval += 1\n",
    "    current_party = Total_quotient_list[sval].party_att\n",
    "\n",
    "    # scroll through and add seats until the value is below threshold.\n",
    "    if (current_party == \"SPL\" or current_party == \"OTH\" ):\n",
    "        continue\n",
    "        # Skip OTHER, SPOILED quotients.\n",
    "    elif ( (parties[current_party].vote_share*total_seats_assigned)-parties[current_party].seats_assigned) > 1 :\n",
    "        # if this seat is not independent or \"spoiled\",\n",
    "        # and is owed seats >1 then give it an extra seat:\n",
    "        parties[current_party].seats_assigned += 1\n",
    "        total_seats_assigned += 1\n",
    "    else:\n",
    "        pass"
   ]
  },
  {
   "cell_type": "code",
   "execution_count": 17,
   "metadata": {},
   "outputs": [],
   "source": [
    "Standings_final = pd.DataFrame({ \"Seats_initial\"  :[ parties[p].Seats_initial  for p in parties],\n",
    "                      \"Votes\"          :[ parties[p].Votes          for p in parties ],\n",
    "                      \"Vote_share\"     :[ parties[p].vote_share     for p in parties],\n",
    "                      \"Seats_final\"    :[ parties[p].seats_assigned for p in parties ],\n",
    "                      \"Seat_share\"     :[(parties[p].seats_assigned)/total_seats_assigned  for p in parties]\n",
    "                      }, index = parties.keys() )\n",
    "Seats_total_final = Standings_final[\"Seats_final\"].sum()"
   ]
  },
  {
   "cell_type": "code",
   "execution_count": 18,
   "metadata": {},
   "outputs": [
    {
     "name": "stdout",
     "output_type": "stream",
     "text": [
      "2011\n",
      "     Seats_initial      Votes  Vote_share  Seats_final  Seat_share\n",
      "BLQ              4   891425.0    0.060136           22    0.059459\n",
      "CON            166  5835270.0    0.393652          166    0.448649\n",
      "LIB             34  2783076.0    0.187749           69    0.186486\n",
      "NDP            103  4512411.0    0.304411          112    0.302703\n",
      "OTH              1   701798.0    0.047344            1    0.002703\n",
      "SPL              0    99428.0    0.006707            0    0.000000\n"
     ]
    }
   ],
   "source": [
    "print(year)\n",
    "print(Standings_final)"
   ]
  },
  {
   "cell_type": "code",
   "execution_count": 19,
   "metadata": {},
   "outputs": [],
   "source": [
    "#and output to file:\n",
    "# Standings_final.round(4).to_csv(f_standings_out, sep=\"\\t\")"
   ]
  },
  {
   "cell_type": "code",
   "execution_count": 20,
   "metadata": {},
   "outputs": [],
   "source": [
    "# ======================================================\n",
    "# Begin plotting"
   ]
  },
  {
   "cell_type": "code",
   "execution_count": null,
   "metadata": {},
   "outputs": [],
   "source": []
  },
  {
   "cell_type": "code",
   "execution_count": null,
   "metadata": {},
   "outputs": [],
   "source": []
  },
  {
   "cell_type": "code",
   "execution_count": 21,
   "metadata": {},
   "outputs": [
    {
     "data": {
      "text/plain": [
       "([<matplotlib.axis.XTick at 0x11ddba810>,\n",
       "  <matplotlib.axis.XTick at 0x11dda6fd0>,\n",
       "  <matplotlib.axis.XTick at 0x11dda6c50>,\n",
       "  <matplotlib.axis.XTick at 0x11de27790>,\n",
       "  <matplotlib.axis.XTick at 0x11de27d10>],\n",
       " <a list of 5 Text xticklabel objects>)"
      ]
     },
     "execution_count": 21,
     "metadata": {},
     "output_type": "execute_result"
    },
    {
     "data": {
      "image/png": "[encoded data removed]",
      "text/plain": [
       "<Figure size 432x288 with 1 Axes>"
      ]
     },
     "metadata": {
      "needs_background": "light"
     },
     "output_type": "display_data"
    }
   ],
   "source": [
    "# data to plot\n",
    "n_groups = Num_parties-1\n",
    "\n",
    "# create plot\n",
    "fig, ax       = plt.subplots()\n",
    "x_positions   = np.arange(n_groups)\n",
    "bar_width     = 0.35\n",
    "opaque        = 0.95\n",
    "semitrans     = 0.5\n",
    "\n",
    "rects1 = plt.bar( x_positions,\n",
    "                  Standings_final[\"Seats_initial\"][:-1], \n",
    "                  bar_width,\n",
    "                  alpha=opaque,\n",
    "                  color=[ PMM.colours[\"solid\"][p]  for p in Standings_final.index[:-1] ],\n",
    "                  label='Initial')\n",
    "\n",
    "rects2 = plt.bar( x_positions + bar_width,\n",
    "                  Standings_final[\"Seats_final\"][:-1],\n",
    "                  bar_width,\n",
    "                  alpha=semitrans,\n",
    "                  color=[ PMM.colours[\"trans\"][p]  for p in Standings_final.index[:-1] ],\n",
    "                  label='PMM')\n",
    "\n",
    "xmin = -0.5*bar_width\n",
    "xmax = bar_width*(2*(n_groups+1))\n",
    "maj_thresh_b4    = plt.plot([xmin, xmax],[0.5*Seats_total_init, 0.5*Seats_total_init],\"-k\")\n",
    "maj_thresh_after = plt.plot([xmin, xmax],[0.5*Seats_total_final, 0.5*Seats_total_final],\"--k\")\n",
    "\n",
    "# No text in this annotation, to ensure that the arrow goes straight vertical\n",
    "ax.annotate('', xy=(xmax, 0.5*Seats_total_final),\n",
    "             xycoords='data',\n",
    "             xytext=(xmax, 0.5*Seats_total_init),\n",
    "             textcoords='data',\n",
    "             arrowprops=dict(arrowstyle= '->',\n",
    "                             color='black',\n",
    "                             lw=2.0,\n",
    "                             ls='-')\n",
    "           )\n",
    "\n",
    "ax.annotate( 'Majority', \n",
    "             xy=( xmax-bar_width, 0.5*Seats_total_init-20), \n",
    "             xycoords='data',\n",
    "             # xytext=(0.8, 0.5), textcoords='axes fraction'\n",
    "             # , horizontalalignment='right', verticalalignment='top',\n",
    "            )\n",
    "\n",
    "\n",
    "# plt.xlabel('Party', fontsize=15)\n",
    "plt.ylabel('Seats', fontsize=15)\n",
    "plt.title(str(year), fontsize=15 )\n",
    "# ax.set_xticks([], [])\n",
    "plt.xticks(x_positions + bar_width, tuple( list(Standings.index[:-1])), fontsize=22 )\n",
    "\n",
    "#######\n",
    "# Far too much time was wasted trying to get the party logos to automatically\n",
    "# import to the plots. Unfortunately matplotlib doesn't want to let me add\n",
    "# enough space for them at the bottom of the figure (illustrative example \n",
    "# attempts commented out below) , so I've had to add \n",
    "# them in manually for each figure --an ugly and unsatisfying workaround.\n",
    "# If anyone can suggest how to fix this, please post an issue or PR\n",
    "# p=0\n",
    "# logo = mpimg.imread(PMM.Logos[Standings_final.index[p]])\n",
    "# logobox = OffsetImage(logo, zoom=0.5)\n",
    "# ab = AnnotationBbox( logobox, \n",
    "#                   xy = (x_positions[p]+0.25*bar_width, 1), \n",
    "#                   xybox=(x_positions[p]+0.95*bar_width, 2),\n",
    "# #                     xycoords='figure fraction',\n",
    "#                   frameon=True, \n",
    "#                   pad=0 )\n",
    "# ax.add_artist(ab)\n"
   ]
  },
  {
   "cell_type": "code",
   "execution_count": null,
   "metadata": {},
   "outputs": [],
   "source": []
  }
 ],
 "metadata": {
  "kernelspec": {
   "display_name": "Python 3",
   "language": "python",
   "name": "python3"
  },
  "language_info": {
   "codemirror_mode": {
    "name": "ipython",
    "version": 3
   },
   "file_extension": ".py",
   "mimetype": "text/x-python",
   "name": "python",
   "nbconvert_exporter": "python",
   "pygments_lexer": "ipython3",
   "version": "3.7.5"
  }
 },
 "nbformat": 4,
 "nbformat_minor": 2
}
